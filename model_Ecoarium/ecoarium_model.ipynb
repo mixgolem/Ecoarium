{
 "cells": [
  {
   "cell_type": "code",
   "execution_count": 1,
   "metadata": {},
   "outputs": [
    {
     "name": "stdout",
     "output_type": "stream",
     "text": [
      "WARNING:tensorflow:From c:\\Users\\lavie\\AppData\\Local\\Programs\\Python\\Python311\\Lib\\site-packages\\keras\\src\\losses.py:2976: The name tf.losses.sparse_softmax_cross_entropy is deprecated. Please use tf.compat.v1.losses.sparse_softmax_cross_entropy instead.\n",
      "\n"
     ]
    }
   ],
   "source": [
    "import numpy as np\n",
    "import matplotlib.pyplot as plt\n",
    "import os\n",
    "import cv2\n",
    "from sklearn.model_selection import train_test_split\n",
    "from sklearn.metrics import accuracy_score\n",
    "from tensorflow.keras.models import Sequential, model_from_json\n",
    "from tensorflow.keras.layers import Conv2D, MaxPooling2D, Flatten, Dense, Dropout\n",
    "from tensorflow.keras.preprocessing.image import ImageDataGenerator\n"
   ]
  },
  {
   "cell_type": "code",
   "execution_count": 2,
   "metadata": {},
   "outputs": [],
   "source": [
    "data = []\n",
    "labels = []\n",
    "\n",
    "# Clean 폴더 이미지 불러오기\n",
    "clean_dir = 'Data_PlasticCup/clean'\n",
    "for filename in os.listdir(clean_dir):\n",
    "    img = cv2.imread(os.path.join(clean_dir, filename))\n",
    "    img = cv2.resize(img, (128, 128))\n",
    "    data.append(img)\n",
    "    labels.append(0)  # 0 = 깨끗한 컵\n",
    "\n",
    "# NG 폴더 이미지 불러오기\n",
    "ng_dir = 'Data_PlasticCup/ng'\n",
    "for filename in os.listdir(ng_dir):\n",
    "    img = cv2.imread(os.path.join(ng_dir, filename))\n",
    "    img = cv2.resize(img, (128, 128))\n",
    "    data.append(img)\n",
    "    labels.append(1)  # 1 = 더러운 컵\n",
    "\n",
    "# 데이터 분할\n",
    "x_train, x_val, y_train, y_val = train_test_split(data, labels, test_size=0.2, random_state=42)"
   ]
  },
  {
   "cell_type": "code",
   "execution_count": 3,
   "metadata": {},
   "outputs": [
    {
     "name": "stdout",
     "output_type": "stream",
     "text": [
      "WARNING:tensorflow:From c:\\Users\\lavie\\AppData\\Local\\Programs\\Python\\Python311\\Lib\\site-packages\\keras\\src\\backend.py:873: The name tf.get_default_graph is deprecated. Please use tf.compat.v1.get_default_graph instead.\n",
      "\n",
      "WARNING:tensorflow:From c:\\Users\\lavie\\AppData\\Local\\Programs\\Python\\Python311\\Lib\\site-packages\\keras\\src\\layers\\pooling\\max_pooling2d.py:161: The name tf.nn.max_pool is deprecated. Please use tf.nn.max_pool2d instead.\n",
      "\n",
      "WARNING:tensorflow:From c:\\Users\\lavie\\AppData\\Local\\Programs\\Python\\Python311\\Lib\\site-packages\\keras\\src\\optimizers\\__init__.py:309: The name tf.train.Optimizer is deprecated. Please use tf.compat.v1.train.Optimizer instead.\n",
      "\n",
      "Epoch 1/30\n",
      "WARNING:tensorflow:From c:\\Users\\lavie\\AppData\\Local\\Programs\\Python\\Python311\\Lib\\site-packages\\keras\\src\\utils\\tf_utils.py:492: The name tf.ragged.RaggedTensorValue is deprecated. Please use tf.compat.v1.ragged.RaggedTensorValue instead.\n",
      "\n",
      "WARNING:tensorflow:From c:\\Users\\lavie\\AppData\\Local\\Programs\\Python\\Python311\\Lib\\site-packages\\keras\\src\\engine\\base_layer_utils.py:384: The name tf.executing_eagerly_outside_functions is deprecated. Please use tf.compat.v1.executing_eagerly_outside_functions instead.\n",
      "\n",
      "12/12 [==============================] - 2s 65ms/step - loss: 34.1854 - accuracy: 0.5243 - val_loss: 0.5904 - val_accuracy: 0.6809\n",
      "Epoch 2/30\n",
      "12/12 [==============================] - 1s 48ms/step - loss: 0.5765 - accuracy: 0.7568 - val_loss: 0.0691 - val_accuracy: 1.0000\n",
      "Epoch 3/30\n",
      "12/12 [==============================] - 1s 47ms/step - loss: 0.0914 - accuracy: 0.9676 - val_loss: 0.0045 - val_accuracy: 1.0000\n",
      "Epoch 4/30\n",
      "12/12 [==============================] - 1s 45ms/step - loss: 0.0085 - accuracy: 0.9946 - val_loss: 3.1805e-04 - val_accuracy: 1.0000\n",
      "Epoch 5/30\n",
      "12/12 [==============================] - 1s 45ms/step - loss: 0.0599 - accuracy: 0.9892 - val_loss: 0.0137 - val_accuracy: 1.0000\n",
      "Epoch 6/30\n",
      "12/12 [==============================] - 1s 45ms/step - loss: 0.0250 - accuracy: 0.9946 - val_loss: 0.0526 - val_accuracy: 1.0000\n",
      "Epoch 7/30\n",
      "12/12 [==============================] - 1s 45ms/step - loss: 0.2061 - accuracy: 0.9568 - val_loss: 0.0072 - val_accuracy: 1.0000\n",
      "Epoch 8/30\n",
      "12/12 [==============================] - 1s 44ms/step - loss: 0.0982 - accuracy: 0.9838 - val_loss: 0.0017 - val_accuracy: 1.0000\n",
      "Epoch 9/30\n",
      "12/12 [==============================] - 1s 44ms/step - loss: 0.0017 - accuracy: 1.0000 - val_loss: 2.2119e-05 - val_accuracy: 1.0000\n",
      "Epoch 10/30\n",
      "12/12 [==============================] - 1s 45ms/step - loss: 8.5903e-04 - accuracy: 1.0000 - val_loss: 5.5997e-06 - val_accuracy: 1.0000\n",
      "Epoch 11/30\n",
      "12/12 [==============================] - 1s 44ms/step - loss: 1.8505e-04 - accuracy: 1.0000 - val_loss: 3.4783e-07 - val_accuracy: 1.0000\n",
      "Epoch 12/30\n",
      "12/12 [==============================] - 1s 44ms/step - loss: 0.0093 - accuracy: 0.9946 - val_loss: 1.1637e-04 - val_accuracy: 1.0000\n",
      "Epoch 13/30\n",
      "12/12 [==============================] - 1s 43ms/step - loss: 0.0429 - accuracy: 0.9784 - val_loss: 6.3658e-06 - val_accuracy: 1.0000\n",
      "Epoch 14/30\n",
      "12/12 [==============================] - 1s 47ms/step - loss: 3.1713e-04 - accuracy: 1.0000 - val_loss: 7.1209e-06 - val_accuracy: 1.0000\n",
      "Epoch 15/30\n",
      "12/12 [==============================] - 1s 47ms/step - loss: 4.5216e-04 - accuracy: 1.0000 - val_loss: 1.4860e-07 - val_accuracy: 1.0000\n",
      "Epoch 16/30\n",
      "12/12 [==============================] - 1s 45ms/step - loss: 6.3121e-04 - accuracy: 1.0000 - val_loss: 1.0298e-08 - val_accuracy: 1.0000\n",
      "Epoch 17/30\n",
      "12/12 [==============================] - 1s 48ms/step - loss: 4.1133e-04 - accuracy: 1.0000 - val_loss: 5.0201e-09 - val_accuracy: 1.0000\n",
      "Epoch 18/30\n",
      "12/12 [==============================] - 1s 46ms/step - loss: 1.7743e-04 - accuracy: 1.0000 - val_loss: 4.9602e-09 - val_accuracy: 1.0000\n",
      "Epoch 19/30\n",
      "12/12 [==============================] - 1s 46ms/step - loss: 0.0036 - accuracy: 1.0000 - val_loss: 3.9666e-06 - val_accuracy: 1.0000\n",
      "Epoch 20/30\n",
      "12/12 [==============================] - 1s 45ms/step - loss: 4.2225e-04 - accuracy: 1.0000 - val_loss: 1.1259e-06 - val_accuracy: 1.0000\n",
      "Epoch 21/30\n",
      "12/12 [==============================] - 1s 45ms/step - loss: 7.4183e-05 - accuracy: 1.0000 - val_loss: 4.1469e-08 - val_accuracy: 1.0000\n",
      "Epoch 22/30\n",
      "12/12 [==============================] - 1s 45ms/step - loss: 2.4598e-04 - accuracy: 1.0000 - val_loss: 1.2206e-08 - val_accuracy: 1.0000\n",
      "Epoch 23/30\n",
      "12/12 [==============================] - 1s 45ms/step - loss: 1.1672e-04 - accuracy: 1.0000 - val_loss: 3.4285e-09 - val_accuracy: 1.0000\n",
      "Epoch 24/30\n",
      "12/12 [==============================] - 1s 45ms/step - loss: 3.5251e-04 - accuracy: 1.0000 - val_loss: 1.2870e-09 - val_accuracy: 1.0000\n",
      "Epoch 25/30\n",
      "12/12 [==============================] - 1s 45ms/step - loss: 4.9435e-06 - accuracy: 1.0000 - val_loss: 1.0688e-09 - val_accuracy: 1.0000\n",
      "Epoch 26/30\n",
      "12/12 [==============================] - 1s 45ms/step - loss: 2.9004e-05 - accuracy: 1.0000 - val_loss: 9.8736e-10 - val_accuracy: 1.0000\n",
      "Epoch 27/30\n",
      "12/12 [==============================] - 1s 44ms/step - loss: 1.7224e-06 - accuracy: 1.0000 - val_loss: 9.7224e-10 - val_accuracy: 1.0000\n",
      "Epoch 28/30\n",
      "12/12 [==============================] - 1s 44ms/step - loss: 1.5656e-05 - accuracy: 1.0000 - val_loss: 9.8933e-10 - val_accuracy: 1.0000\n",
      "Epoch 29/30\n",
      "12/12 [==============================] - 1s 45ms/step - loss: 4.3314e-05 - accuracy: 1.0000 - val_loss: 1.0032e-09 - val_accuracy: 1.0000\n",
      "Epoch 30/30\n",
      "12/12 [==============================] - 1s 46ms/step - loss: 4.8316e-06 - accuracy: 1.0000 - val_loss: 9.3659e-10 - val_accuracy: 1.0000\n"
     ]
    },
    {
     "name": "stderr",
     "output_type": "stream",
     "text": [
      "c:\\Users\\lavie\\AppData\\Local\\Programs\\Python\\Python311\\Lib\\site-packages\\keras\\src\\engine\\training.py:3103: UserWarning: You are saving your model as an HDF5 file via `model.save()`. This file format is considered legacy. We recommend using instead the native Keras format, e.g. `model.save('my_model.keras')`.\n",
      "  saving_api.save_model(\n"
     ]
    }
   ],
   "source": [
    "# 모델 정의\n",
    "model = Sequential()\n",
    "\n",
    "# 컨볼루션 레이어 1\n",
    "model.add(Conv2D(32, (3, 3), activation='relu', input_shape=(128, 128, 3)))\n",
    "model.add(MaxPooling2D((2, 2)))\n",
    "\n",
    "# 컨볼루션 레이어 2 \n",
    "model.add(Conv2D(64, (3, 3), activation='relu'))\n",
    "model.add(MaxPooling2D((2, 2)))\n",
    "\n",
    "# 컨볼루션 레이어 3\n",
    "model.add(Conv2D(128, (3, 3), activation='relu')) \n",
    "model.add(MaxPooling2D((2, 2)))\n",
    "\n",
    "# fully connected 레이어\n",
    "model.add(Flatten())\n",
    "model.add(Dense(128, activation='relu'))\n",
    "model.add(Dropout(0.5))\n",
    "model.add(Dense(1, activation='sigmoid'))\n",
    "\n",
    "# 데이터를 NumPy 배열로 변환\n",
    "x_train = np.array(x_train)\n",
    "y_train = np.array(y_train)\n",
    "x_val = np.array(x_val)\n",
    "y_val = np.array(y_val)\n",
    "\n",
    "# 모델 컴파일\n",
    "model.compile(optimizer='adam', loss='binary_crossentropy', metrics=['accuracy'])\n",
    "\n",
    "# 모델 학습\n",
    "model.fit(x_train, y_train, validation_data=(x_val, y_val), epochs=30, batch_size=16)\n",
    "\n",
    "# 모델 저장\n",
    "model.save('plastic_cup_classifier.h5')"
   ]
  },
  {
   "cell_type": "code",
   "execution_count": 4,
   "metadata": {},
   "outputs": [
    {
     "name": "stdout",
     "output_type": "stream",
     "text": [
      "2/2 - 0s - loss: 9.3659e-10 - accuracy: 1.0000 - 116ms/epoch - 58ms/step\n",
      "Test accuracy: 100.00%\n",
      "2/2 [==============================] - 0s 10ms/step\n",
      "Accuracy (using sklearn.metrics): 100.00%\n"
     ]
    }
   ],
   "source": [
    "# 모델 불러오기\n",
    "from tensorflow.keras.models import load_model\n",
    "model = load_model('plastic_cup_classifier.h5')\n",
    "\n",
    "# 테스트 데이터셋 준비\n",
    "x_test = np.array(x_val)\n",
    "y_test = np.array(y_val)\n",
    "\n",
    "# 모델 평가\n",
    "test_loss, test_acc = model.evaluate(x_test, y_test, verbose=2)\n",
    "print(f'Test accuracy: {test_acc * 100:.2f}%')\n",
    "\n",
    "# 예측값 구하기\n",
    "y_pred = (model.predict(x_test) > 0.5).astype(int)\n",
    "\n",
    "# 정확도 계산\n",
    "accuracy = accuracy_score(y_test, y_pred)\n",
    "print(f'Accuracy (using sklearn.metrics): {accuracy * 100:.2f}%')"
   ]
  }
 ],
 "metadata": {
  "kernelspec": {
   "display_name": "Python 3",
   "language": "python",
   "name": "python3"
  },
  "language_info": {
   "codemirror_mode": {
    "name": "ipython",
    "version": 3
   },
   "file_extension": ".py",
   "mimetype": "text/x-python",
   "name": "python",
   "nbconvert_exporter": "python",
   "pygments_lexer": "ipython3",
   "version": "3.11.8"
  }
 },
 "nbformat": 4,
 "nbformat_minor": 2
}
